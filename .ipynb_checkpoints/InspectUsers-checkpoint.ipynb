{
 "cells": [
  {
   "cell_type": "code",
   "execution_count": 1,
   "metadata": {},
   "outputs": [],
   "source": [
    "from glob import glob\n",
    "import pandas as pd\n",
    "from pprint import pprint"
   ]
  },
  {
   "cell_type": "code",
   "execution_count": 4,
   "metadata": {},
   "outputs": [],
   "source": [
    "users = glob('./client_data/users/*')"
   ]
  },
  {
   "cell_type": "code",
   "execution_count": 3,
   "metadata": {},
   "outputs": [
    {
     "name": "stdout",
     "output_type": "stream",
     "text": [
      "'USERNAME'\n",
      " 'neel'\n",
      "'PASSWORD'\n",
      " 'aaaaaaaa'\n",
      "'TIMELINE'\n",
      "                          time       text\n",
      "0  2020-11-30 15:46:50.803207  i am cool\n",
      "'Friends'\n",
      " {'zeel'}\n",
      "'Rcvd Requests'\n",
      " set()\n",
      "'isOnline'\n",
      " False\n",
      "\n",
      "\n",
      "\n",
      "\n",
      "'USERNAME'\n",
      " 'zeel'\n",
      "'PASSWORD'\n",
      " 'aaaaaaaaa'\n",
      "'TIMELINE'\n",
      "                          time          text\n",
      "0  2020-11-30 15:44:40.740675  i am on time\n",
      "'Friends'\n",
      " {'neel'}\n",
      "'Rcvd Requests'\n",
      " set()\n",
      "'isOnline'\n",
      " False\n",
      "\n",
      "\n",
      "\n",
      "\n"
     ]
    }
   ],
   "source": [
    "for user in users:\n",
    "    tmp = pd.read_pickle(user)\n",
    "    for key, value in tmp.items():\n",
    "        pprint(key);print(' ',end='');pprint(value)\n",
    "    print('\\n\\n\\n')"
   ]
  },
  {
   "cell_type": "code",
   "execution_count": null,
   "metadata": {},
   "outputs": [],
   "source": []
  }
 ],
 "metadata": {
  "kernelspec": {
   "display_name": "Python 3",
   "language": "python",
   "name": "python3"
  },
  "language_info": {
   "codemirror_mode": {
    "name": "ipython",
    "version": 3
   },
   "file_extension": ".py",
   "mimetype": "text/x-python",
   "name": "python",
   "nbconvert_exporter": "python",
   "pygments_lexer": "ipython3",
   "version": "3.8.3"
  }
 },
 "nbformat": 4,
 "nbformat_minor": 4
}
