{
 "cells": [
  {
   "cell_type": "code",
   "execution_count": 1,
   "metadata": {},
   "outputs": [
    {
     "name": "stdout",
     "output_type": "stream",
     "text": [
      "Overwriting ./src/Server.py\n"
     ]
    }
   ],
   "source": [
    "%%writefile ./src/Server.py\n",
    "import socket\n",
    "import subprocess\n",
    "import sys\n",
    "\n",
    "class FaceServer():\n",
    "    def __init__(self, ALLOWED_CONNECTIONS=7):\n",
    "        ### Global variables\n",
    "        self.PORT = 12345\n",
    "        self.ALLOWED_CONNECTIONS = ALLOWED_CONNECTIONS\n",
    "        \n",
    "        self.sock = socket.socket(socket.AF_INET, socket.SOCK_STREAM)\n",
    "        hostname = socket.gethostname()    \n",
    "        self.IPAddr = socket.gethostbyname(hostname)\n",
    "        print(self.IPAddr)\n",
    "        self.sock.bind((self.IPAddr, self.PORT))\n",
    "        \n",
    "    def get_subsocket(self):\n",
    "        sock = socket.socket(socket.AF_INET, socket.SOCK_STREAM)\n",
    "        for port in range(12346,12346+self.ALLOWED_CONNECTIONS):\n",
    "            try:\n",
    "                sock.bind((self.IPAddr, port))\n",
    "                sock.close()\n",
    "                return port\n",
    "            except OSError:\n",
    "                continue\n",
    "        return None\n",
    "    \n",
    "    def start_main_server(self):\n",
    "        self.sock.listen()\n",
    "        while True:\n",
    "            print(\"Main server: Listening for new connections\")\n",
    "            client, addr = self.sock.accept()\n",
    "            subport = self.get_subsocket()\n",
    "            \n",
    "            if subport is None:\n",
    "                msg = 'OVERLOAD'\n",
    "                print(msg)\n",
    "                client.send(msg.encode());client.close()\n",
    "                continue\n",
    "            \n",
    "            client.send(bytes(str(subport), 'utf-8'))\n",
    "            client.settimeout(1)\n",
    "            try:\n",
    "                isOK = client.recv(32).decode()\n",
    "            except socket.timeout:\n",
    "                print(\"Main server: No responce from client. Reset\")\n",
    "                continue\n",
    "            if isOK=='OK':\n",
    "                client.close()\n",
    "                pid = subprocess.Popen(['python','C:/Users/zeelp/Desktop/Mini-face/subServer.py',str(subport),addr[0]])\n",
    "                print(\"Main server: redirected to port:\",subport)\n",
    "            else:\n",
    "                print(\"Main server: Failed to redirect client\")\n",
    "                continue\n",
    "                \n",
    "                \n",
    "#########################################\n",
    "server = FaceServer()\n",
    "server.start_main_server()"
   ]
  },
  {
   "cell_type": "code",
   "execution_count": null,
   "metadata": {},
   "outputs": [],
   "source": []
  }
 ],
 "metadata": {
  "kernelspec": {
   "display_name": "Python 3",
   "language": "python",
   "name": "python3"
  },
  "language_info": {
   "codemirror_mode": {
    "name": "ipython",
    "version": 3
   },
   "file_extension": ".py",
   "mimetype": "text/x-python",
   "name": "python",
   "nbconvert_exporter": "python",
   "pygments_lexer": "ipython3",
   "version": "3.8.3"
  }
 },
 "nbformat": 4,
 "nbformat_minor": 4
}
