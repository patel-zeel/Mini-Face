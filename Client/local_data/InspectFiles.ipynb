{
 "cells": [
  {
   "cell_type": "code",
   "execution_count": 1,
   "metadata": {},
   "outputs": [],
   "source": [
    "import pandas as pd\n",
    "from glob import glob"
   ]
  },
  {
   "cell_type": "code",
   "execution_count": 2,
   "metadata": {},
   "outputs": [
    {
     "name": "stdout",
     "output_type": "stream",
     "text": [
      "../local_data\\InspectFiles.ipynb\n",
      "../local_data\\neel\n",
      "{'USERNAME': 'neel', 'PASSWORD': 'neel', 'TIMELINE': Empty DataFrame\n",
      "Columns: [time, text, Flag]\n",
      "Index: [], 'Friends': set(), 'Limited Friends': set(), 'Rcvd Requests': set(), 'isOnline': True, 'Chat': {'zeel':                          time   usr                        msg\n",
      "0  2020-12-02 12:29:58.201873  zeel                    Hi neel\n",
      "1  2020-12-02 12:30:23.610695    Me                Hi zeel bro\n",
      "2  2020-12-02 12:30:46.725898    Me  Online chat ends here bro}}\n",
      "\n",
      "\n",
      "\n",
      "\n",
      "../local_data\\neel_S\n",
      "{'USERNAME': 'neel', 'PASSWORD': 'neel', 'TIMELINE': Empty DataFrame\n",
      "Columns: [time, text, Flag]\n",
      "Index: [], 'Friends': {'zeel'}, 'Limited Friends': set(), 'Rcvd Requests': set(), 'isOnline': True, 'Chat': {'zeel':                          time   usr                        msg\n",
      "0  2020-12-02 12:29:58.201873  zeel                    Hi neel\n",
      "1  2020-12-02 12:30:23.610695    Me                Hi zeel bro\n",
      "2  2020-12-02 12:30:46.725898    Me  Online chat ends here bro}}\n",
      "\n",
      "\n",
      "\n",
      "\n",
      "../local_data\\zeel\n",
      "{'USERNAME': 'zeel', 'PASSWORD': 'zeel', 'TIMELINE': Empty DataFrame\n",
      "Columns: [time, text, Flag]\n",
      "Index: [], 'Friends': {'neel'}, 'Limited Friends': set(), 'Rcvd Requests': set(), 'isOnline': True, 'Chat': {'neel':                          time   usr                        msg\n",
      "0  2020-12-02 12:29:58.201873    Me                    Hi neel\n",
      "1  2020-12-02 12:30:23.610695  neel                Hi zeel bro\n",
      "2  2020-12-02 12:30:46.725898  neel  Online chat ends here bro}}\n",
      "\n",
      "\n",
      "\n",
      "\n",
      "../local_data\\zeel_S\n",
      "{'USERNAME': 'zeel', 'PASSWORD': 'zeel', 'TIMELINE': Empty DataFrame\n",
      "Columns: [time, text, Flag]\n",
      "Index: [], 'Friends': {'neel'}, 'Limited Friends': set(), 'Rcvd Requests': set(), 'isOnline': True, 'Chat': {'neel':                          time   usr                        msg\n",
      "0  2020-12-02 12:29:58.201873    Me                    Hi neel\n",
      "1  2020-12-02 12:30:23.610695  neel                Hi zeel bro\n",
      "2  2020-12-02 12:30:46.725898  neel  Online chat ends here bro}}\n",
      "\n",
      "\n",
      "\n",
      "\n"
     ]
    }
   ],
   "source": [
    "f = glob('../local_data/*')\n",
    "for fl in f:\n",
    "    try:\n",
    "        print(fl)\n",
    "        print(pd.read_pickle(fl))\n",
    "        print('\\n\\n\\n')\n",
    "    except:\n",
    "        pass"
   ]
  },
  {
   "cell_type": "code",
   "execution_count": null,
   "metadata": {},
   "outputs": [],
   "source": []
  }
 ],
 "metadata": {
  "kernelspec": {
   "display_name": "Python 3",
   "language": "python",
   "name": "python3"
  },
  "language_info": {
   "codemirror_mode": {
    "name": "ipython",
    "version": 3
   },
   "file_extension": ".py",
   "mimetype": "text/x-python",
   "name": "python",
   "nbconvert_exporter": "python",
   "pygments_lexer": "ipython3",
   "version": "3.8.3"
  }
 },
 "nbformat": 4,
 "nbformat_minor": 4
}
