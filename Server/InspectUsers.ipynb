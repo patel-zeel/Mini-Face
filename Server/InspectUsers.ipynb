{
 "cells": [
  {
   "cell_type": "code",
   "execution_count": 4,
   "metadata": {},
   "outputs": [],
   "source": [
    "from glob import glob\n",
    "import pandas as pd\n",
    "from pprint import pprint"
   ]
  },
  {
   "cell_type": "code",
   "execution_count": 7,
   "metadata": {},
   "outputs": [
    {
     "data": {
      "text/plain": [
       "['client_data/users\\\\jack',\n",
       " 'client_data/users\\\\neel',\n",
       " 'client_data/users\\\\zeel']"
      ]
     },
     "execution_count": 7,
     "metadata": {},
     "output_type": "execute_result"
    }
   ],
   "source": [
    "users = glob('client_data/users/*')\n",
    "users"
   ]
  },
  {
   "cell_type": "code",
   "execution_count": 10,
   "metadata": {},
   "outputs": [
    {
     "name": "stdout",
     "output_type": "stream",
     "text": [
      "b\"\\x80\\x05\\x95\\xbb\\x07\\x00\\x00\\x00\\x00\\x00\\x00}\\x94(\\x8c\\x08USERNAME\\x94\\x8c\\x04zeel\\x94\\x8c\\x08PASSWORD\\x94\\x8c\\x04zeel\\x94\\x8c\\x08TIMELINE\\x94\\x8c\\x11pandas.core.frame\\x94\\x8c\\tDataFrame\\x94\\x93\\x94)\\x81\\x94}\\x94(\\x8c\\x05_data\\x94\\x8c\\x1epandas.core.internals.managers\\x94\\x8c\\x0cBlockManager\\x94\\x93\\x94)\\x81\\x94(]\\x94(\\x8c\\x18pandas.core.indexes.base\\x94\\x8c\\n_new_Index\\x94\\x93\\x94h\\x11\\x8c\\x05Index\\x94\\x93\\x94}\\x94(\\x8c\\x04data\\x94\\x8c\\x15numpy.core.multiarray\\x94\\x8c\\x0c_reconstruct\\x94\\x93\\x94\\x8c\\x05numpy\\x94\\x8c\\x07ndarray\\x94\\x93\\x94K\\x00\\x85\\x94C\\x01b\\x94\\x87\\x94R\\x94(K\\x01K\\x03\\x85\\x94h\\x1b\\x8c\\x05dtype\\x94\\x93\\x94\\x8c\\x02O8\\x94K\\x00K\\x01\\x87\\x94R\\x94(K\\x03\\x8c\\x01|\\x94NNNJ\\xff\\xff\\xff\\xffJ\\xff\\xff\\xff\\xffK?t\\x94b\\x89]\\x94(\\x8c\\x04time\\x94\\x8c\\x04text\\x94\\x8c\\x04Flag\\x94et\\x94b\\x8c\\x04name\\x94Nu\\x86\\x94R\\x94h\\x13h\\x15}\\x94(h\\x17h\\x1ah\\x1dK\\x00\\x85\\x94h\\x1f\\x87\\x94R\\x94(K\\x01K\\x00\\x85\\x94h'\\x89]\\x94t\\x94bh/Nu\\x86\\x94R\\x94e]\\x94h\\x1ah\\x1dK\\x00\\x85\\x94h\\x1f\\x87\\x94R\\x94(K\\x01K\\x03K\\x00\\x86\\x94h'\\x89]\\x94t\\x94ba]\\x94h\\x13h\\x15}\\x94(h\\x17h\\x1ah\\x1dK\\x00\\x85\\x94h\\x1f\\x87\\x94R\\x94(K\\x01K\\x03\\x85\\x94h'\\x89]\\x94(h+h,h-et\\x94bh/Nu\\x86\\x94R\\x94a}\\x94\\x8c\\x060.14.1\\x94}\\x94(\\x8c\\x04axes\\x94h\\x10\\x8c\\x06blocks\\x94]\\x94}\\x94(\\x8c\\x06values\\x94h>\\x8c\\x08mgr_locs\\x94\\x8c\\x08builtins\\x94\\x8c\\x05slice\\x94\\x93\\x94K\\x00K\\x03K\\x01\\x87\\x94R\\x94uaust\\x94b\\x8c\\x04_typ\\x94\\x8c\\tdataframe\\x94\\x8c\\t_metadata\\x94]\\x94\\x8c\\x05attrs\\x94}\\x94ub\\x8c\\x07Friends\\x94\\x8f\\x94(\\x8c\\x04neel\\x94\\x90\\x8c\\x0fLimited Friends\\x94\\x8f\\x94\\x8c\\rRcvd Requests\\x94\\x8f\\x94\\x8c\\x08isOnline\\x94\\x88\\x8c\\x04Chat\\x94}\\x94hch\\x08)\\x81\\x94}\\x94(h\\x0bh\\x0e)\\x81\\x94(]\\x94(h\\x13h\\x15}\\x94(h\\x17h\\x1ah\\x1dK\\x00\\x85\\x94h\\x1f\\x87\\x94R\\x94(K\\x01K\\x03\\x85\\x94h$\\x8c\\x02O8\\x94K\\x00K\\x01\\x87\\x94R\\x94(K\\x03h(NNNJ\\xff\\xff\\xff\\xffJ\\xff\\xff\\xff\\xffK?t\\x94b\\x89]\\x94(\\x8c\\x04time\\x94\\x8c\\x03usr\\x94\\x8c\\x03msg\\x94et\\x94bh/Nu\\x86\\x94R\\x94h\\x13\\x8c\\x1bpandas.core.indexes.numeric\\x94\\x8c\\nInt64Index\\x94\\x93\\x94}\\x94(h\\x17\\x8c\\x12numpy.core.numeric\\x94\\x8c\\x0b_frombuffer\\x94\\x93\\x94(\\x96x\\x00\\x00\\x00\\x00\\x00\\x00\\x00\\x00\\x00\\x00\\x00\\x00\\x00\\x00\\x00\\x01\\x00\\x00\\x00\\x00\\x00\\x00\\x00\\x02\\x00\\x00\\x00\\x00\\x00\\x00\\x00\\x03\\x00\\x00\\x00\\x00\\x00\\x00\\x00\\x04\\x00\\x00\\x00\\x00\\x00\\x00\\x00\\x05\\x00\\x00\\x00\\x00\\x00\\x00\\x00\\x06\\x00\\x00\\x00\\x00\\x00\\x00\\x00\\x07\\x00\\x00\\x00\\x00\\x00\\x00\\x00\\x08\\x00\\x00\\x00\\x00\\x00\\x00\\x00\\t\\x00\\x00\\x00\\x00\\x00\\x00\\x00\\n\\x00\\x00\\x00\\x00\\x00\\x00\\x00\\x0b\\x00\\x00\\x00\\x00\\x00\\x00\\x00\\x0c\\x00\\x00\\x00\\x00\\x00\\x00\\x00\\r\\x00\\x00\\x00\\x00\\x00\\x00\\x00\\x0e\\x00\\x00\\x00\\x00\\x00\\x00\\x00\\x94h$\\x8c\\x02i8\\x94K\\x00K\\x01\\x87\\x94R\\x94(K\\x03\\x8c\\x01<\\x94NNNJ\\xff\\xff\\xff\\xffJ\\xff\\xff\\xff\\xffK\\x00t\\x94bK\\x0f\\x85\\x94\\x8c\\x01C\\x94t\\x94R\\x94h/Nu\\x86\\x94R\\x94e]\\x94h\\x1ah\\x1dK\\x00\\x85\\x94h\\x1f\\x87\\x94R\\x94(K\\x01K\\x03K\\x0f\\x86\\x94hv\\x88]\\x94(\\x8c\\x1a2020-12-01 20:32:06.322785\\x94\\x8c\\x1a2020-12-01 20:32:20.405880\\x94\\x8c\\x1a2020-12-01 20:35:12.778310\\x94\\x8c\\x1a2020-12-01 20:35:16.694853\\x94\\x8c\\x1a2020-12-01 20:50:07.879317\\x94\\x8c\\x1a2020-12-01 20:50:13.799235\\x94\\x8c\\x1a2020-12-01 20:50:21.057325\\x94\\x8c\\x1a2020-12-01 20:50:32.515123\\x94\\x8c\\x1a2020-12-01 20:52:38.092214\\x94\\x8c\\x1a2020-12-01 20:52:41.578020\\x94\\x8c\\x1a2020-12-01 20:52:48.491930\\x94\\x8c\\x1a2020-12-01 20:52:53.031637\\x94\\x8c\\x1a2020-12-01 20:52:55.254982\\x94\\x8c\\x1a2020-12-01 20:52:58.639693\\x94\\x8c\\x1a2020-12-01 20:53:01.830890\\x94\\x8c\\x02Me\\x94\\x8c\\x02Me\\x94\\x8c\\x04zeel\\x94\\x8c\\x02Me\\x94\\x8c\\x02Me\\x94\\x8c\\x04neel\\x94\\x8c\\x02Me\\x94\\x8c\\x04neel\\x94\\x8c\\x04zeel\\x94\\x8c\\x02Me\\x94\\x8c\\x04zeel\\x94\\x8c\\x02Me\\x94\\x8c\\x04zeel\\x94\\x8c\\x02Me\\x94\\x8c\\x04zeel\\x94\\x8c\\tZeel i am\\x94\\x8c\\x07oflline\\x94\\x8c\\x06Hi man\\x94\\x8c\\x06Online\\x94\\x8c\\x06Hi bro\\x94\\x8c\\x02Hi\\x94\\x8c\\x02Hi\\x94\\x8c\\x04@end\\x94\\x8c\\x07Hi zeel\\x94\\x8c\\x07Hi neel\\x94\\x8c\\x08Whats up\\x94\\x8c\\x0cNothing much\\x94\\x8c\\x04Cool\\x94\\x8c\\x08Leys end\\x94\\x8c\\x03Yaa\\x94et\\x94ba]\\x94h\\x13h\\x15}\\x94(h\\x17h\\x1ah\\x1dK\\x00\\x85\\x94h\\x1f\\x87\\x94R\\x94(K\\x01K\\x03\\x85\\x94hv\\x89]\\x94(hyhzh{et\\x94bh/Nu\\x86\\x94R\\x94a}\\x94hM}\\x94(hOhnhP]\\x94}\\x94(hSh\\x95hThWK\\x00K\\x03K\\x01\\x87\\x94R\\x94uaust\\x94bh[\\x8c\\tdataframe\\x94h]]\\x94h_}\\x94ubsu.\"\n"
     ]
    }
   ],
   "source": [
    "with open(users[2], 'rb') as f:\n",
    "    print(f.read())"
   ]
  },
  {
   "cell_type": "code",
   "execution_count": 6,
   "metadata": {},
   "outputs": [
    {
     "name": "stdout",
     "output_type": "stream",
     "text": [
      "'USERNAME'\n",
      " 'jack'\n",
      "'PASSWORD'\n",
      " 'jack'\n",
      "'TIMELINE'\n",
      " Empty DataFrame\n",
      "Columns: [time, text, Flag]\n",
      "Index: []\n",
      "'Friends'\n",
      " set()\n",
      "'Limited Friends'\n",
      " set()\n",
      "'Rcvd Requests'\n",
      " set()\n",
      "'isOnline'\n",
      " False\n",
      "'Chat'\n",
      " {}\n",
      "\n",
      "\n",
      "\n",
      "\n",
      "'USERNAME'\n",
      " 'neel'\n",
      "'PASSWORD'\n",
      " 'neel'\n",
      "'TIMELINE'\n",
      "                          time                        text       Flag\n",
      "0  2020-12-01 21:54:10.072558      Its private status man  isPrivate\n",
      "1  2020-12-01 21:54:39.615991      This is limited status  isLimited\n",
      "2  2020-12-01 21:55:39.944973  This status is for friends  isFriends\n",
      "3  2020-12-01 21:57:16.940254         This is public post   isPublic\n",
      "'Friends'\n",
      " {'zeel'}\n",
      "'Limited Friends'\n",
      " {'zeel'}\n",
      "'Rcvd Requests'\n",
      " set()\n",
      "'isOnline'\n",
      " False\n",
      "'Chat'\n",
      " {'zeel':                           time   usr           msg\n",
      "0   2020-12-01 20:32:06.322785  zeel     Zeel i am\n",
      "1   2020-12-01 20:32:20.405880  zeel       oflline\n",
      "2   2020-12-01 20:35:12.778310    Me        Hi man\n",
      "3   2020-12-01 20:35:16.694853  zeel        Online\n",
      "4   2020-12-01 20:50:07.879317  neel        Hi bro\n",
      "5   2020-12-01 20:50:13.799235    Me            Hi\n",
      "6   2020-12-01 20:50:21.057325  neel            Hi\n",
      "7   2020-12-01 20:50:32.515123    Me          @end\n",
      "8   2020-12-01 20:52:38.092214    Me       Hi zeel\n",
      "9   2020-12-01 20:52:41.578020  zeel       Hi neel\n",
      "10  2020-12-01 20:52:48.491930    Me      Whats up\n",
      "11  2020-12-01 20:52:53.031637  zeel  Nothing much\n",
      "12  2020-12-01 20:52:55.254982    Me          Cool\n",
      "13  2020-12-01 20:52:58.639693  zeel      Leys end\n",
      "14  2020-12-01 20:53:01.830890    Me           Yaa}\n",
      "\n",
      "\n",
      "\n",
      "\n",
      "'USERNAME'\n",
      " 'zeel'\n",
      "'PASSWORD'\n",
      " 'zeel'\n",
      "'TIMELINE'\n",
      " Empty DataFrame\n",
      "Columns: [time, text, Flag]\n",
      "Index: []\n",
      "'Friends'\n",
      " {'neel'}\n",
      "'Limited Friends'\n",
      " set()\n",
      "'Rcvd Requests'\n",
      " set()\n",
      "'isOnline'\n",
      " True\n",
      "'Chat'\n",
      " {'neel':                           time   usr           msg\n",
      "0   2020-12-01 20:32:06.322785    Me     Zeel i am\n",
      "1   2020-12-01 20:32:20.405880    Me       oflline\n",
      "2   2020-12-01 20:35:12.778310  zeel        Hi man\n",
      "3   2020-12-01 20:35:16.694853    Me        Online\n",
      "4   2020-12-01 20:50:07.879317    Me        Hi bro\n",
      "5   2020-12-01 20:50:13.799235  neel            Hi\n",
      "6   2020-12-01 20:50:21.057325    Me            Hi\n",
      "7   2020-12-01 20:50:32.515123  neel          @end\n",
      "8   2020-12-01 20:52:38.092214  zeel       Hi zeel\n",
      "9   2020-12-01 20:52:41.578020    Me       Hi neel\n",
      "10  2020-12-01 20:52:48.491930  zeel      Whats up\n",
      "11  2020-12-01 20:52:53.031637    Me  Nothing much\n",
      "12  2020-12-01 20:52:55.254982  zeel          Cool\n",
      "13  2020-12-01 20:52:58.639693    Me      Leys end\n",
      "14  2020-12-01 20:53:01.830890  zeel           Yaa}\n",
      "\n",
      "\n",
      "\n",
      "\n"
     ]
    }
   ],
   "source": [
    "for user in users:\n",
    "    tmp = pd.read_pickle(user)\n",
    "    for key, value in tmp.items():\n",
    "        pprint(key);print(' ',end='');pprint(value)\n",
    "    print('\\n\\n\\n')"
   ]
  },
  {
   "cell_type": "code",
   "execution_count": null,
   "metadata": {},
   "outputs": [],
   "source": []
  }
 ],
 "metadata": {
  "kernelspec": {
   "display_name": "Python 3",
   "language": "python",
   "name": "python3"
  },
  "language_info": {
   "codemirror_mode": {
    "name": "ipython",
    "version": 3
   },
   "file_extension": ".py",
   "mimetype": "text/x-python",
   "name": "python",
   "nbconvert_exporter": "python",
   "pygments_lexer": "ipython3",
   "version": "3.8.3"
  }
 },
 "nbformat": 4,
 "nbformat_minor": 4
}
